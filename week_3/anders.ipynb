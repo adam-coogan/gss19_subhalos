{
 "cells": [
  {
   "cell_type": "code",
   "execution_count": 1,
   "metadata": {},
   "outputs": [],
   "source": [
    "import numpy as np\n",
    "import matplotlib.pyplot as plt\n",
    "from scipy.interpolate import interp1d\n",
    "from scipy.integrate import quad\n",
    "from scipy.optimize import fsolve\n",
    "\n",
    "cm   = 1.\n",
    "GeV  = 1.\n",
    "s    = 1.\n",
    "eV   = 10**-9*GeV\n",
    "keV  = 10**3*eV\n",
    "MeV  = 10**6*eV\n",
    "yr   = 365*24*60*60*s\n",
    "kg   = 5.6095883571872e+35*eV\n",
    "c    = 3e10*cm/s\n",
    "km   = cm*10**5\n",
    "g    = 10**-3*kg\n",
    "amu  = 931.494*MeV\n",
    "\n",
    "\n",
    "#atomic mass number of Xe (unitless)\n",
    "A_Xe = 131.293\n",
    "#molar mass of Xe (grams/mol)\n",
    "M_Xe = A_Xe*g\n",
    "#atomic mass of Xe (grams)\n",
    "m_Xe = A_Xe*amu\n",
    "#bulk mass of Xe (grams)\n",
    "m_Xe_bulk = 500*kg\n",
    "#Avogadro constant (particles/mol)\n",
    "N_A  = 6.02214086e23\n",
    "# minimum recoil energy for detection\n",
    "E_R_low = 3*keV\n",
    "#proton mass\n",
    "m_p = 938.272*MeV\n",
    "#observational duration\n",
    "t_obs = 1*yr\n",
    "#dark matter most probable velocity\n",
    "v_0 = 220*km/s\n",
    "#dark matter particle average velocity\n",
    "v_av = 2*v_0/np.sqrt(np.pi)\n",
    "#dark matter density\n",
    "rho_DM = 0.3*GeV/cm**3"
   ]
  },
  {
   "cell_type": "markdown",
   "metadata": {},
   "source": [
    "$500$ kg of Xenon\n",
    "\n",
    "$1$ yr of observation time\n",
    "\n",
    "$E_R>3$ keV\n",
    "\n",
    "We need to find $\\sigma_{SI}$ such that the expected number of events is $3$ which corresponds to a 95% confidence level upper limit\n",
    "\n"
   ]
  },
  {
   "cell_type": "code",
   "execution_count": 5,
   "metadata": {},
   "outputs": [],
   "source": [
    "#calculate the expected 95% C.L. upper limits on the WIMP-proton coupling\n",
    "#cross-sections as function of the dark matter mass\n",
    "\n",
    "#calculate reduced mass\n",
    "def mu(m_DM):\n",
    "    return m_DM*m_Xe/(m_DM + m_Xe)\n",
    "\n",
    "\n",
    "#calculate WIMP-Xenon coupling cross-section\n",
    "def sigma(m_DM, sigma_SI):\n",
    "    return sigma_SI*(mu(m_DM)**2*A_Xe**2)/(m_p**2)\n",
    "\n",
    "\n",
    "#calculate 0-order interation rate:\n",
    "def R_0(m_DM, sigma):\n",
    "    return (N_A)/(M_Xe)*(rho_DM/m_DM)*sigma*v_av\n",
    "\n",
    "\n",
    "def dRdE_R(m_DM, sigma_SI, E_R):\n",
    "    R_0_const = R_0(m_DM,sigma(m_DM,sigma_SI))\n",
    "    E_0 = (1/2)*m_DM*(v_0/c)**2\n",
    "    r = 4*mu(m_DM)**2/(m_DM*m_Xe)\n",
    "    exponent = -E_R/(r*E_0)\n",
    "    return (R_0_const/(r*E_0))*np.exp(exponent)\n",
    "    \n",
    "\n",
    "def N_events(m_DM, sigma_SI):\n",
    "    integrand = lambda E_R: dRdE_R(m_DM, sigma_SI, E_R)\n",
    "    R = quad(integrand, E_R_low, np.inf)[0]\n",
    "    return R*m_Xe_bulk*t_obs\n",
    "\n",
    "\n",
    "def sigma_SI_solver(m_DM):\n",
    "    equation = lambda sigma_SI: N_events(m_DM, sigma_SI)-3.\n",
    "    guess = 1e-46\n",
    "    return fsolve(equation, guess)"
   ]
  },
  {
   "cell_type": "code",
   "execution_count": 6,
   "metadata": {},
   "outputs": [
    {
     "name": "stderr",
     "output_type": "stream",
     "text": [
      "/home/soutone/.local/lib/python3.6/site-packages/scipy/optimize/minpack.py:162: RuntimeWarning: The iteration is not making good progress, as measured by the \n",
      "  improvement from the last ten iterations.\n",
      "  warnings.warn(msg, RuntimeWarning)\n"
     ]
    },
    {
     "data": {
      "image/png": "[encoded data removed]",
      "text/plain": [
       "<Figure size 720x360 with 1 Axes>"
      ]
     },
     "metadata": {
      "needs_background": "light"
     },
     "output_type": "display_data"
    }
   ],
   "source": [
    "WIMP_mass_vect = np.logspace(1, 3)*GeV\n",
    "sigma_SI_vect = []\n",
    "for mass in WIMP_mass_vect:\n",
    "    sigma_SI_vect.append(sigma_SI_solver(mass))\n",
    "plt.figure(figsize=(10,5))\n",
    "plt.plot(WIMP_mass_vect*GeV**-1, sigma_SI_vect)\n",
    "plt.yscale('log')\n",
    "plt.xscale('log')\n",
    "plt.ylabel(r'$\\sigma_{SI}$ (cm$^2$)')\n",
    "plt.xlabel(r'WIMP mass (GeV)')\n",
    "plt.show()"
   ]
  },
  {
   "cell_type": "code",
   "execution_count": null,
   "metadata": {},
   "outputs": [],
   "source": [
    "sigma_SI_data = np.genfromtxt('sigmaSI.csv', delimiter=',')\n",
    "                             \n",
    "sigma_SI=interp1d(sigma_SI_data[:,0]*GeV,sigma_SI_data[:,1],kind='linear',fill_value='extrapolate')\n",
    "WIMP_mass_vect = np.logspace(1, 3)*GeV           \n",
    "plt.figure(figsize=(10,5))\n",
    "plt.plot(WIMP_mass_vect*GeV**-1, sigma_SI(WIMP_mass_vect))\n",
    "plt.yscale('log')\n",
    "plt.xscale('log')\n",
    "plt.ylabel(r'$\\sigma_{SI}$ (cm$^2$)')\n",
    "plt.xlabel(r'WIMP mass (GeV)')\n",
    "plt.show()"
   ]
  }
 ],
 "metadata": {
  "kernelspec": {
   "display_name": "Python 3",
   "language": "python",
   "name": "python3"
  },
  "language_info": {
   "codemirror_mode": {
    "name": "ipython",
    "version": 3
   },
   "file_extension": ".py",
   "mimetype": "text/x-python",
   "name": "python",
   "nbconvert_exporter": "python",
   "pygments_lexer": "ipython3",
   "version": "3.6.8"
  }
 },
 "nbformat": 4,
 "nbformat_minor": 2
}
