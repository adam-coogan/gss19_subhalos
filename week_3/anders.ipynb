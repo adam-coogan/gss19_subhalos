{
 "cells": [
  {
   "cell_type": "code",
   "execution_count": 31,
   "metadata": {},
   "outputs": [],
   "source": [
    "import numpy as np\n",
    "import matplotlib.pyplot as plt\n",
    "cm   = 1.\n",
    "kg   = 1.\n",
    "eV   = 1.\n",
    "keV  = 10**3*eV\n",
    "MeV  = 10**6*eV\n",
    "s    = 1.\n",
    "yr   = 365*24*60*60*s\n",
    "c    = 1.\n",
    "\n",
    "#bulk mass of Xe\n",
    "m_Xe = 500*kg\n",
    "#atomic number of Xe\n",
    "A_Xe = 54\n",
    "recoil_energy_threshold = 3*keV\n",
    "#proton mass\n",
    "m_p = 938.272*MeV\n",
    "#observational duration\n",
    "t_obs = 1*yr\n",
    "\n",
    "#spin-independent WIMP-proton coupling cross-section\n",
    "sigma_SI = 1"
   ]
  },
  {
   "cell_type": "code",
   "execution_count": 30,
   "metadata": {},
   "outputs": [],
   "source": [
    "#calculate the expected 95% C.L. upper limits on the WIMP-proton coupling\n",
    "#cross-sections as function of the dark matter mass\n",
    "\n",
    "#calculate reduced mass\n",
    "def mu(m_DM):\n",
    "    return m_DM*m_p/(m_DM + m_p)\n",
    "\n",
    "#calculate WIMP-proton coupling cross-section\n",
    "def sigma(m_DM):\n",
    "    return sigma_SI*mu(m_DM)**2*A_Xe**2/m_p**2\n"
   ]
  },
  {
   "cell_type": "code",
   "execution_count": null,
   "metadata": {},
   "outputs": [],
   "source": []
  }
 ],
 "metadata": {
  "kernelspec": {
   "display_name": "Python 3",
   "language": "python",
   "name": "python3"
  },
  "language_info": {
   "codemirror_mode": {
    "name": "ipython",
    "version": 3
   },
   "file_extension": ".py",
   "mimetype": "text/x-python",
   "name": "python",
   "nbconvert_exporter": "python",
   "pygments_lexer": "ipython3",
   "version": "3.6.6"
  }
 },
 "nbformat": 4,
 "nbformat_minor": 2
}
