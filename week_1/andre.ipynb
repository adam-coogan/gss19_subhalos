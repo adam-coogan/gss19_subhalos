{
 "cells": [
  {
   "cell_type": "code",
   "execution_count": 13,
   "metadata": {},
   "outputs": [],
   "source": [
    "import numpy as np\n",
    "from matplotlib import pyplot as plt\n",
    "from scipy.optimize import fsolve\n",
    "from scipy.misc import derivative\n",
    "from scipy.integrate import odeint\n",
    "from scipy.interpolate import interp1d\n",
    "import seaborn as sns\n",
    "\n",
    "sns.set(rc={'text.usetex' : True})\n",
    "sns.set_context(\"paper\", font_scale=2)\n",
    "sns.set_style(\"ticks\", {'axes.grid': False,\n",
    "                        'axes.linewidth': 1.5,\n",
    "                        'legend.frameon':True,\n",
    "                        'useTex':True})"
   ]
  },
  {
   "cell_type": "markdown",
   "metadata": {},
   "source": [
    "# Dark Matter Freeze Out\n",
    "## $g_{*S}$ extracted from plot"
   ]
  },
  {
   "cell_type": "code",
   "execution_count": 37,
   "metadata": {},
   "outputs": [
    {
     "data": {
      "image/png": "[encoded data removed]",
      "text/plain": [
       "<Figure size 720x360 with 1 Axes>"
      ]
     },
     "metadata": {},
     "output_type": "display_data"
    }
   ],
   "source": [
    "gstar_data = np.genfromtxt('gstar.csv', delimiter=',')\n",
    "\n",
    "gstar_S=interp1d(gstar_data[:,0], gstar_data[:,1],kind='nearest',fill_value='extrapolate')\n",
    "gstar=interp1d(gstar_data[:,2], gstar_data[:,3],kind='nearest',fill_value='extrapolate')\n",
    "Ts_S=gstar_data[:,0]\n",
    "Ts_S=gstar_data[:,0]\n",
    "Ts=gstar_data[:,2]\n",
    "\n",
    "plt.figure(figsize=(10,5))\n",
    "plt.plot(Ts_S,gstar_S(Ts_S), label=r'$g_{*S}$')\n",
    "plt.plot(Ts,gstar(Ts), label=r'$g_{*}$')\n",
    "plt.yscale('log')\n",
    "plt.xscale('log')\n",
    "plt.ylabel(r'$g_{*S}$')\n",
    "plt.xlabel(r'$T$ (MeV)')\n",
    "plt.gca().invert_xaxis()\n",
    "plt.legend()\n",
    "plt.show()"
   ]
  },
  {
   "cell_type": "markdown",
   "metadata": {},
   "source": [
    "## Converting between $a$ and $T$:\n",
    "\n",
    "$$a^3g_{*S}(T)T^3=\\text{const}$$"
   ]
  },
  {
   "cell_type": "code",
   "execution_count": 38,
   "metadata": {},
   "outputs": [
    {
     "data": {
      "text/plain": [
       "array([100.])"
      ]
     },
     "execution_count": 38,
     "metadata": {},
     "output_type": "execute_result"
    }
   ],
   "source": [
    "def T_to_a(T):\n",
    "    return (gstar_S(T_0)/gstar_S(T))**(1/3)*(T_0/T)\n",
    "def a_to_T(a):\n",
    "    func = lambda T: a**3*(gstar_S(T))*T**3-gstar_S(T_0)*T_0**3\n",
    "    T_initial_guess = gstar_S(T_0)**(1/3)*(T_0/a)\n",
    "    T_solution = fsolve(func, T_initial_guess)\n",
    "    return T_solution\n",
    "\n",
    "# for testing:\n",
    "T_0 = 0.235e-3\n",
    "a_test = T_to_a(100)\n",
    "a_to_T(a_test)"
   ]
  },
  {
   "cell_type": "markdown",
   "metadata": {},
   "source": [
    "# Theoretical background\n",
    "\n",
    "We need to create plots of $\\Omega_{\\text{DM}}(m_{\\text{DM}})$ and  $\\Omega_{\\text{DM}}(\\sigma_{\\text{DM-DM}})$\n",
    "\n",
    "$$\\Omega_{\\text{DM}}=\\frac{\\rho_{\\text{DM}}}{\\rho_{\\text{crit}}}$$\n",
    "\n",
    "Here, $\\rho_{\\text{DM}}$ is the present value, which can be obtained as follows: \n",
    "\n",
    "We calculate $n_{\\text{DM}}$ at decoupling, redshift it and then do $\\rho_{\\text{DM}}= n_{\\text{DM},0}m_{\\text{DM}}$, where $n_{\\text{DM},0}$ can be obtained from the value at decoupling using $n_{\\text{DM},0}=n_{\\text{DM}}a^{-3}$\n",
    "\n",
    "For cold dark matter (non-relativistic case):\n",
    "\n",
    "$$n_{\\text{DM}}=g\\left(\\frac{m_{\\text{DM}}T}{2\\pi}\\right)^{3/2}e^{-m_{\\text{DM}}/T}$$\n",
    "\n",
    "For hot dark matter (relativistic case):\n",
    "\n",
    "$$n_{\\text{DM}}=\\frac{\\zeta(3)}{\\pi^2}gT^3 \\text{ for bosons, or }n_{\\text{DM}}=\\frac34\\frac{\\zeta(3)}{\\pi^2}gT^3 \\text{ for fermions.}$$\n",
    "\n",
    "Let us first assume that the cross section for DM-DM interactions is\n",
    "$$ \\sigma_{\\text{DM-DM}}=G_F^2T^2$$\n",
    "\n",
    "The Hubble parameter, in the radiation dominated universe, is given by:\n",
    "$$ H(T)=\\frac{\\pi}{3}\\left(\\frac{g_*}{10}\\right)^{1/2}\\frac{T^2}{M_{\\text{Pl}}} $$\n",
    "\n",
    "Using the equipartition theorem, we can compute the velocity of a gas of particles at a temperature $T$:\n",
    "$$v=\\sqrt{\\frac{3k_BT}{m_{DM}}}$$\n",
    "\n",
    "### Instantaneous decoupling\n",
    "\n",
    "Assuming decoupling was instantaneous, we need to find the freeze-out temperature by equating the interaction rate and the Hubble rate:\n",
    "$$H(T_{fo})=\\Gamma(T_{fo})\\Leftrightarrow H(T_{fo})=n(T_{fo})\\sigma(T_{fo})v(T_{fo})$$"
   ]
  },
  {
   "cell_type": "markdown",
   "metadata": {},
   "source": [
    "# Values and units\n",
    "\n",
    "We will work in natural units. Here are the values that we need:\n",
    "\n",
    "$G_F=1.1663787 \\times 10^{-5} \\text{ GeV}^{-2}$\n",
    "\n",
    "$M_{\\text{Pl}}=2.435\\times 10^{18}\\text{ GeV}$\n",
    "\n",
    "$k_B=1$\n",
    "\n",
    "$T_0=0.235 \\text{ meV}$\n",
    "\n",
    "$\\rho_{\\text{crit}}=\\frac{3H_0^2}{8\\pi G}=1.0997\\times10^{-8}\\text{ eV}^4$\n",
    "\n",
    "The ranges of $m_{\\text{DM}}$ and of $\\sigma_{\\text{DM-DM}}$ that we need to plot over are:\n",
    "\n",
    "$m_{\\text{DM}}\\in [0.1\\text{ eV}, 10\\text{ keV}] \\text{ for hot dark matter}$\n",
    "\n",
    "$m_{\\text{DM}}\\in [10\\text{ MeV}, 10\\text{ TeV}] \\text{ for cold dark matter}$\n",
    "\n",
    "$\\sigma_{\\text{DM-DM}}\\in [G_F\\times 10^{-6},G_F\\times 10^6]$"
   ]
  },
  {
   "cell_type": "markdown",
   "metadata": {},
   "source": [
    "# Gradual Freeze Out\n",
    "\n",
    "Evolution of the number of dark matter particles:\n",
    "\n",
    "\\begin{equation}\n",
    "\\frac{dn}{dt}+3Hn=\\frac{d(na^3)}{a^3dt}=\\langle\\sigma v\\rangle(n_{eq}^2-n^2)\n",
    "\\end{equation}\n",
    "\n",
    "Replacing $n$ with $Y=n/s$, we can rewrite this equation as:\n",
    "\n",
    "$$ \\frac{dY}{dx}=\\frac{s\\langle\\sigma v\\rangle}{Hx}\\left(1+\\frac13\\frac{d(\\log g_s)}{d(\\log T)}\\right)(Y_{eq}^2-Y^2) $$\n",
    "\n",
    "Here, $x=m/T$.\n",
    "\n",
    "After calculating $Y$ at present we can plot the present day abundances using:\n",
    "\n",
    "$$\\Omega=\\rho_{\\text{DM}}/\\rho_{\\text{crit}}=m s_0 Y_0/\\rho_{\\text{crit}}$$\n",
    "\n",
    "We can calculate $Y$ in multiple ways. The simplest (numerical) way is to solve:\n",
    "\n",
    "$$ \\frac{dW}{dx}=\\frac{\\lambda}{x^2}\\left(1+\\frac13\\frac{d(\\log g_s)}{d(\\log T)}\\right)\\frac{g_s}{g_\\rho^{1/2}}(e^{2W_{eq}-W}-e^W) $$\n",
    "\n",
    "Here, $W=\\log(Y)$, $Y_{eq}=0.145(g/g_s)x^{3/2}e^{-x}$ and $\\lambda=2.76\\times 10^{35}m\\langle\\sigma v\\rangle$."
   ]
  },
  {
   "cell_type": "code",
   "execution_count": 42,
   "metadata": {},
   "outputs": [
    {
     "data": {
      "image/png": "[encoded data removed]",
      "text/plain": [
       "<Figure size 432x288 with 1 Axes>"
      ]
     },
     "metadata": {},
     "output_type": "display_data"
    },
    {
     "name": "stdout",
     "output_type": "stream",
     "text": [
      "[3.18280016e-10]\n"
     ]
    }
   ],
   "source": [
    "m = 1e7 # 10 GeV\n",
    "sigmav = 6.5e-29 # 1/eV^2\n",
    "g = 2\n",
    "lamb = 2.76e35*m*(sigmav)\n",
    "crit_dens = 1.0997e-8\n",
    "T_0 = 0.235e-3\n",
    "\n",
    "def Weq(x):\n",
    "    Yeq = 0.145*(g/gstar_S(m/x))*x**(3/2)*np.exp(-x)\n",
    "    return np.log(Yeq)\n",
    "\n",
    "def dloggdlogT(T):\n",
    "    func = lambda T: np.log(gstar_S(T))\n",
    "    return derivative(func,np.log(T))\n",
    "\n",
    "# function that returns dy/dt\n",
    "def equation(W,x):\n",
    "    T = m/x\n",
    "    frac = gstar_S(T)/(gstar(T)**(1/2))\n",
    "    dWdx = (lamb/x**2)*(1+(1/3)*dloggdlogT(T))*frac*(np.exp(2*Weq(x)-W)-np.exp(W))\n",
    "    return dWdx\n",
    "\n",
    "# initial condition\n",
    "W0 = Weq(1)\n",
    "\n",
    "# time points\n",
    "xs = np.linspace(3,500)\n",
    "\n",
    "# solve ODE\n",
    "W = odeint(equation,W0,xs)\n",
    "\n",
    "Y = np.exp(W)\n",
    "\n",
    "plt.plot(xs, Y)\n",
    "plt.yscale('log')\n",
    "plt.xscale('linear')\n",
    "plt.ylabel(r'$Y$')\n",
    "plt.xlabel(r'$x$')\n",
    "plt.show()\n",
    "\n",
    "Y0 = Y[-1]\n",
    "\n",
    "def entr_dens(T):\n",
    "    return (2*np.pi**2/45)*(gstar_S(T))*T**3\n",
    "\n",
    "omega = m*entr_dens(T_0)*Y0/crit_dens\n",
    "\n",
    "print(omega)"
   ]
  },
  {
   "cell_type": "markdown",
   "metadata": {},
   "source": [
    "# Notes\n",
    "\n",
    "In definition of $H(T)$, we need to use correct definition of $g$"
   ]
  }
 ],
 "metadata": {
  "kernelspec": {
   "display_name": "Python 3",
   "language": "python",
   "name": "python3"
  },
  "language_info": {
   "codemirror_mode": {
    "name": "ipython",
    "version": 3
   },
   "file_extension": ".py",
   "mimetype": "text/x-python",
   "name": "python",
   "nbconvert_exporter": "python",
   "pygments_lexer": "ipython3",
   "version": "3.6.7"
  }
 },
 "nbformat": 4,
 "nbformat_minor": 2
}
