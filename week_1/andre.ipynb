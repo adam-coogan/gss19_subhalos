{
 "cells": [
  {
   "cell_type": "markdown",
   "metadata": {},
   "source": [
    "# Dark Matter Freeze Out"
   ]
  },
  {
   "cell_type": "code",
   "execution_count": 13,
   "metadata": {},
   "outputs": [],
   "source": [
    "import numpy as np\n",
    "import seaborn as sns\n",
    "import matplotlib.pyplot as plt\n",
    "from scipy.special import zeta\n",
    "from astropy import units as u\n",
    "from sympy.solvers import solve\n",
    "from sympy import Symbol\n",
    "import csv\n",
    "from scipy.optimize import fsolve\n",
    "%matplotlib inline"
   ]
  },
  {
   "cell_type": "code",
   "execution_count": 34,
   "metadata": {},
   "outputs": [],
   "source": [
    "sigma=1\n",
    "Mp=2.4e27\n",
    "g=2\n",
    "gstar=10.75\n",
    "T_fo=1e6\n",
    "T_0=0.2348e-3\n",
    "a_fo=T_0/T_fo\n",
    "grams_to_eV=5.6095883571872e+32\n",
    "cm_m1_to_eV=0.00012\n",
    "crit_density=1.9e-29*(grams_to_eV)*(cm_m1_to_eV**3)\n",
    "\n",
    "def hubble(T):\n",
    "    return (np.pi/3)*(gstar/10)**(1/2)*((T)**2/Mp)\n",
    "\n",
    "def density_rel(T,ferm=True):\n",
    "    if ferm:\n",
    "        return (zeta(3)/np.pi**2)*g*(7/8)*T**3\n",
    "    else:\n",
    "        return (zeta(3)/np.pi**2)*g*T**3\n",
    "\n",
    "def density_non_rel(T,m):\n",
    "    return g((m*T)/(2*np.pi))**(3/2)*np.exp(-m/T)\n",
    "\n",
    "def abundance_rel(density,m):\n",
    "    return (density*m)/(crit_abundance)\n",
    "\n",
    "def scaling(density, a):\n",
    "    return density/a**3\n",
    "\n",
    "def present_abund(m_DM,sigma):\n",
    "    density=hubble(T_fo)/sigma\n",
    "    return scaling(density,a_fo)*m_DM/crit_density"
   ]
  },
  {
   "cell_type": "code",
   "execution_count": 37,
   "metadata": {},
   "outputs": [
    {
     "data": {
      "image/png": "[encoded data removed]",
      "text/plain": [
       "<Figure size 432x288 with 1 Axes>"
      ]
     },
     "metadata": {
      "needs_background": "light"
     },
     "output_type": "display_data"
    }
   ],
   "source": [
    "m_array=np.linspace(1e3,1e6,50)\n",
    "sigma=10**-18*(cm_m1_to_eV**2)\n",
    "plt.plot(m_array, present_abund(m_array,sigma))\n",
    "plt.show()"
   ]
  },
  {
   "cell_type": "markdown",
   "metadata": {},
   "source": [
    "## Let us think about $g_{*S}$"
   ]
  },
  {
   "cell_type": "code",
   "execution_count": 16,
   "metadata": {},
   "outputs": [
    {
     "data": {
      "image/png": "[encoded data removed]",
      "text/plain": [
       "<Figure size 432x288 with 1 Axes>"
      ]
     },
     "metadata": {
      "needs_background": "light"
     },
     "output_type": "display_data"
    }
   ],
   "source": [
    "gstar_data = np.genfromtxt('gstar.csv', delimiter=',')\n",
    "plt.plot(gstar_data[:,0],gstar_data[:,1])\n",
    "plt.yscale('log')\n",
    "plt.xscale('log')\n",
    "plt.ylabel('g_{*S}')\n",
    "plt.xlabel('T (MeV)')\n",
    "plt.gca().invert_xaxis()\n",
    "plt.show()\n",
    "\n",
    "def gstar(T):\n",
    "    return np.interp(T,gstar_data[:,0], gstar_data[:,1])"
   ]
  },
  {
   "cell_type": "markdown",
   "metadata": {},
   "source": [
    "## Converting between $a$ and $T$:\n",
    "\n",
    "$$a^3g_{*S}(T)T^3=\\text{const}$$"
   ]
  },
  {
   "cell_type": "code",
   "execution_count": 15,
   "metadata": {},
   "outputs": [
    {
     "data": {
      "text/plain": [
       "array([100.])"
      ]
     },
     "execution_count": 15,
     "metadata": {},
     "output_type": "execute_result"
    }
   ],
   "source": [
    "from scipy.optimize import fsolve\n",
    "\n",
    "\n",
    "T_0 = 2\n",
    "\n",
    "def T_to_a(T):\n",
    "    return (gstar(T_0)/gstar(T))**(1/3)*(T_0/T)\n",
    "def a_to_T(a):\n",
    "    func = lambda T: a**3*(gstar(T))*T**3-gstar(T_0)*T_0**3\n",
    "    T_initial_guess = gstar(T_0)**(1/3)*(T_0/a)\n",
    "    T_solution = fsolve(func, T_initial_guess)\n",
    "    return T_solution\n",
    "\n",
    "a_test = T_to_a(100)\n",
    "a_to_T(a_test)"
   ]
  },
  {
   "cell_type": "code",
   "execution_count": null,
   "metadata": {},
   "outputs": [],
   "source": []
  }
 ],
 "metadata": {
  "kernelspec": {
   "display_name": "Python 3",
   "language": "python",
   "name": "python3"
  },
  "language_info": {
   "codemirror_mode": {
    "name": "ipython",
    "version": 3
   },
   "file_extension": ".py",
   "mimetype": "text/x-python",
   "name": "python",
   "nbconvert_exporter": "python",
   "pygments_lexer": "ipython3",
   "version": "3.6.7"
  }
 },
 "nbformat": 4,
 "nbformat_minor": 2
}
