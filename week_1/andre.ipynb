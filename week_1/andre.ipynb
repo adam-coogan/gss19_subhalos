{
 "cells": [
  {
   "cell_type": "code",
   "execution_count": 22,
   "metadata": {},
   "outputs": [],
   "source": [
    "import numpy as np\n",
    "from matplotlib import pyplot as plt\n",
    "from scipy.optimize import fsolve\n",
    "import seaborn as sns\n",
    "\n",
    "sns.set(rc={'text.usetex' : True})\n",
    "sns.set_context(\"paper\", font_scale=2)\n",
    "sns.set_style(\"ticks\", {'axes.grid': False,\n",
    "                        'axes.linewidth': 1.5,\n",
    "                        'legend.frameon':True,\n",
    "                        'useTex':True})"
   ]
  },
  {
   "cell_type": "markdown",
   "metadata": {},
   "source": [
    "# Dark Matter Freeze Out\n",
    "## $g_{*S}$ extracted from plot"
   ]
  },
  {
   "cell_type": "code",
   "execution_count": 23,
   "metadata": {},
   "outputs": [
    {
     "data": {
      "image/png": "[encoded data removed]",
      "text/plain": [
       "<Figure size 720x360 with 1 Axes>"
      ]
     },
     "metadata": {},
     "output_type": "display_data"
    }
   ],
   "source": [
    "gstar_data = np.genfromtxt('gstar.csv', delimiter=',')\n",
    "plt.figure(figsize=(10,5))\n",
    "plt.plot(gstar_data[:,0],gstar_data[:,1])\n",
    "plt.yscale('log')\n",
    "plt.xscale('log')\n",
    "plt.ylabel(r'$g_{*S}$')\n",
    "plt.xlabel(r'$T$ (MeV)')\n",
    "plt.gca().invert_xaxis()\n",
    "plt.show()\n",
    "\n",
    "def gstar(T):\n",
    "    return np.interp(T,gstar_data[:,0], gstar_data[:,1])"
   ]
  },
  {
   "cell_type": "markdown",
   "metadata": {},
   "source": [
    "## Converting between $a$ and $T$:\n",
    "\n",
    "$$a^3g_{*S}(T)T^3=\\text{const}$$"
   ]
  },
  {
   "cell_type": "code",
   "execution_count": 24,
   "metadata": {},
   "outputs": [
    {
     "data": {
      "text/plain": [
       "array([100.])"
      ]
     },
     "execution_count": 24,
     "metadata": {},
     "output_type": "execute_result"
    }
   ],
   "source": [
    "def T_to_a(T):\n",
    "    return (gstar(T_0)/gstar(T))**(1/3)*(T_0/T)\n",
    "def a_to_T(a):\n",
    "    func = lambda T: a**3*(gstar(T))*T**3-gstar(T_0)*T_0**3\n",
    "    T_initial_guess = gstar(T_0)**(1/3)*(T_0/a)\n",
    "    T_solution = fsolve(func, T_initial_guess)\n",
    "    return T_solution\n",
    "\n",
    "# for testing:\n",
    "T_0 = 2\n",
    "a_test = T_to_a(100)\n",
    "a_to_T(a_test)"
   ]
  },
  {
   "cell_type": "markdown",
   "metadata": {},
   "source": [
    "# Theoretical background\n",
    "\n",
    "We need to create plots of $\\Omega_{\\text{DM}}(m_{\\text{DM}})$ and  $\\Omega_{\\text{DM}}(\\sigma_{\\text{DM-DM}})$\n",
    "\n",
    "$$\\Omega_{\\text{DM}}=\\frac{\\rho_{\\text{DM}}}{\\rho_{\\text{crit}}}$$\n",
    "\n",
    "Here, $\\rho_{\\text{DM}}$ is the present value, which can be obtained as follows: \n",
    "\n",
    "We calculate $n_{\\text{DM}}$ at decoupling, redshift it and then do $\\rho_{\\text{DM}}= n_{\\text{DM},0}m_{\\text{DM}}$, where $n_{\\text{DM},0}$ can be obtained from the value at decoupling using $n_{\\text{DM},0}=n_{\\text{DM}}a^{-3}$\n",
    "\n",
    "For cold dark matter (non-relativistic case):\n",
    "\n",
    "$$n_{\\text{DM}}=g\\left(\\frac{m_{\\text{DM}}T}{2\\pi}\\right)^{3/2}e^{-m_{\\text{DM}}/T}$$\n",
    "\n",
    "For hot dark matter (relativistic case):\n",
    "\n",
    "$$n_{\\text{DM}}=\\frac{\\zeta(3)}{\\pi^2}gT^3 \\text{ for bosons, or }n_{\\text{DM}}=\\frac34\\frac{\\zeta(3)}{\\pi^2}gT^3 \\text{ for fermions.}$$\n",
    "\n",
    "Let us first assume that the cross section for DM-DM interactions is\n",
    "$$ \\sigma_{\\text{DM-DM}}=G_F^2T^2$$\n",
    "\n",
    "The Hubble parameter, in the radiation dominated universe, is given by:\n",
    "$$ H(T)=\\frac{\\pi}{3}\\left(\\frac{g_*}{10}\\right)^{1/2}\\frac{T^2}{M_{\\text{Pl}}} $$\n",
    "\n",
    "Using the equipartition theorem, we can compute the velocity of a gas of particles at a temperature $T$:\n",
    "$$v=\\sqrt{\\frac{3k_BT}{m_{DM}}}$$\n",
    "\n",
    "### Instantaneous decoupling\n",
    "\n",
    "Assuming decoupling was instantaneous, we need to find the freeze-out temperature by equating the interaction rate and the Hubble rate:\n",
    "$$H(T_{fo})=\\Gamma(T_{fo})\\Leftrightarrow H(T_{fo})=n(T_{fo})\\sigma(T_{fo})v(T_{fo})$$"
   ]
  },
  {
   "cell_type": "markdown",
   "metadata": {},
   "source": [
    "# Values and units\n",
    "\n",
    "We will work in natural units. Here are the values that we need:\n",
    "\n",
    "$G_F=1.1663787 \\times 10^{-5} \\text{ GeV}^{-2}$\n",
    "\n",
    "$M_{\\text{Pl}}=2.435\\times 10^{18}\\text{ GeV}$\n",
    "\n",
    "$k_B=1$\n",
    "\n",
    "$T_0=0.235 \\text{ meV}$\n",
    "\n",
    "The ranges of $m_{\\text{DM}}$ and of $\\sigma_{\\text{DM-DM}}$ that we need to plot over are:\n",
    "\n",
    "$m_{\\text{DM}}\\in [0.1\\text{ eV}, 10\\text{ keV}] \\text{ for hot dark matter}$\n",
    "\n",
    "$m_{\\text{DM}}\\in [1\\text{ GeV}, 10\\text{ TeV}] \\text{ for cold dark matter}$\n",
    "\n",
    "$\\sigma_{\\text{DM-DM}}\\in [G_F\\times 10^{-6},G_F\\times 10^6]$"
   ]
  },
  {
   "cell_type": "code",
   "execution_count": null,
   "metadata": {},
   "outputs": [],
   "source": []
  }
 ],
 "metadata": {
  "kernelspec": {
   "display_name": "Python 3",
   "language": "python",
   "name": "python3"
  },
  "language_info": {
   "codemirror_mode": {
    "name": "ipython",
    "version": 3
   },
   "file_extension": ".py",
   "mimetype": "text/x-python",
   "name": "python",
   "nbconvert_exporter": "python",
   "pygments_lexer": "ipython3",
   "version": "3.6.7"
  }
 },
 "nbformat": 4,
 "nbformat_minor": 2
}
