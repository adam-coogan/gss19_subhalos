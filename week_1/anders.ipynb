{
 "cells": [
  {
   "cell_type": "markdown",
   "metadata": {},
   "source": [
    "Freeze-out: particles will stay in thermal equilibrium with the universe as long as the reactions keeping them in chemical equilibrium are proceeding at a rate higher than the expansion of the universe. If the expansion rate is faster than the reaction rate, the partices can no longer stay in equilibrium with the universe; they are 'frozen out'.\n",
    "\n",
    "## TODO:\n",
    "Plot H for cold dark matter (T_fo << m).\n",
    "\n",
    "Rearrange cells in a proper order, import everything at start\n",
    "\n",
    "## done:\n",
    "Write functions to calculate the equilibrium number density of particles as a function of temperature (for the relativistic and non-relativistic cases).\n",
    "\n",
    "Write functions to calculate the Hubble constant and g_{*S} as a function of temperature.\n",
    "\n",
    "Plot the present-day abundance (Omega) of hot dark matter (where T_fo >> m) for different masses and cross sections. How does it scale with these variables?\n",
    "\n",
    "Use the equipartition theorem to find the velocity of cold DM (currently approximated as c)"
   ]
  },
  {
   "cell_type": "code",
   "execution_count": 1,
   "metadata": {},
   "outputs": [],
   "source": [
    "import numpy as np\n",
    "import matplotlib.pyplot as plt\n",
    "import math\n",
    "import scipy\n",
    "from scipy.optimize import fsolve\n",
    "from scipy.misc import derivative\n",
    "from scipy.integrate import odeint\n",
    "from scipy.interpolate import interp1d\n",
    "#import seaborn as sns"
   ]
  },
  {
   "cell_type": "code",
   "execution_count": 2,
   "metadata": {},
   "outputs": [
    {
     "data": {
      "image/png": "[encoded data removed]",
      "text/plain": [
       "<Figure size 720x360 with 1 Axes>"
      ]
     },
     "metadata": {
      "needs_background": "light"
     },
     "output_type": "display_data"
    }
   ],
   "source": [
    "gstar_data = np.genfromtxt('gstar.csv', delimiter=',')\n",
    "\n",
    "gstar_S=interp1d(gstar_data[:,0], gstar_data[:,1],kind='nearest',fill_value='extrapolate')\n",
    "gstar=interp1d(gstar_data[:,2], gstar_data[:,3],kind='nearest',fill_value='extrapolate')\n",
    "Ts_S=gstar_data[:,0]\n",
    "Ts_S=gstar_data[:,0]\n",
    "Ts=gstar_data[:,2]\n",
    "\n",
    "plt.figure(figsize=(10,5))\n",
    "plt.plot(Ts_S,gstar_S(Ts_S), label=r'$g_{*S}$')\n",
    "plt.plot(Ts,gstar(Ts), label=r'$g_{*}$')\n",
    "plt.yscale('log')\n",
    "plt.xscale('log')\n",
    "plt.ylabel(r'$g_{*S}$')\n",
    "plt.xlabel(r'$T$ (MeV)')\n",
    "plt.gca().invert_xaxis()\n",
    "plt.legend()\n",
    "plt.show()"
   ]
  },
  {
   "cell_type": "code",
   "execution_count": 3,
   "metadata": {},
   "outputs": [],
   "source": [
    "#define functions for converting between temperature T and\n",
    "#scale factor a\n",
    "T_0 = 0.235e-3\n",
    "def T_to_a(T):\n",
    "    return (gstar_S(T_0)/gstar_S(T))**(1/3)*(T_0/T)\n",
    "def a_to_T(a):\n",
    "    func = lambda T: a**3*(gstar_S(T))*T**3-gstar_S(T_0)*T_0**3\n",
    "    T_initial_guess = gstar_S(T_0)**(1/3)*(T_0/a)\n",
    "    T_solution = fsolve(func, T_initial_guess)\n",
    "    return T_solution"
   ]
  },
  {
   "cell_type": "code",
   "execution_count": 4,
   "metadata": {},
   "outputs": [],
   "source": [
    "#define parameters and functions for calculating\n",
    "#present-day abundance of DM\n",
    "\n",
    "#all parameters in natural units\n",
    "G_F = 1.1663787*10**(-5)/((10**9)**2)\n",
    "M_pl = 2.435*10**18*10**9\n",
    "k_B = 1\n",
    "c = 1\n",
    "#assuming DM particles to be fermions\n",
    "g = 2\n",
    "crit_density = 8.07*10**(-47)*10**36\n",
    "\n",
    "#rough approximations of H, n, and sigma. Replace freely\n",
    "def H(T):\n",
    "    return np.pi/3*(gstar(T)/10)**(1/2)*(T**2)/M_pl\n",
    "\n",
    "#assuming DM particles to be fermions. rel = True -> hot DM\n",
    "def n(T,rel=True,m=0):\n",
    "    if rel:\n",
    "        return 3/4*scipy.special.zeta(3)/(np.pi**2)*g*T**3\n",
    "    else:\n",
    "        if m == 0:\n",
    "            raise Exception(\"for cold DM, mass needs to be specified\")\n",
    "        else:\n",
    "            print(\"T = {}\".format(T))\n",
    "            print(\"m = {}\".format(m))\n",
    "            print(\"g = {}\".format(g))\n",
    "            print(g*(m*T/(2*np.pi))**(3/2)*np.exp(-m/T))\n",
    "            return g*(m*T/(2*np.pi))**(3/2)*np.exp(-m/T)\n",
    "\n",
    "#average velocity of DM. Default = hot DM.\n",
    "def v(T,rel=True,m=0):\n",
    "    if rel == True:\n",
    "        return c\n",
    "    else:\n",
    "        if m == 0:\n",
    "            raise Exception(\"for cold DM, mass needs to be specified\")\n",
    "        else:\n",
    "            return (3*k_B*T/m)**(1/2)\n",
    "\n",
    "#cross-section of DM self-interaction. The parameter alpha can be varied for\n",
    "#easy plotting of different values of sigma\n",
    "def sigma(T,alpha=1):\n",
    "    return alpha*(G_F**2)*(T**2)\n",
    "    \n",
    "#solve for freeze-out temperature T_fo\n",
    "def T_fo_solver(rel=True,alpha=1,m=0):\n",
    "    composite = lambda T: H(T) - (n(T,rel=rel,m=m)*v(T,rel=rel,m=m)*sigma(T,alpha))\n",
    "    T_initial_guess = 10\n",
    "    return fsolve(composite,T_initial_guess)\n",
    "\n",
    "#present-day abundance of dark matter\n",
    "def Omega(T,m,rel=True):\n",
    "    return dm_density(T,m,rel)/crit_density\n",
    "\n",
    "#dark matter density TODAY. n is the DM density at the decoupling, which needs\n",
    "#to be multiplied by a scaling factor a^-3 accounting for expansion\n",
    "def dm_density(T,m,rel=True):\n",
    "    return m*n(T,rel,m)*T_to_a(T)**3"
   ]
  },
  {
   "cell_type": "code",
   "execution_count": 5,
   "metadata": {},
   "outputs": [],
   "source": [
    "#plot Hubble constant at various temperatures\n",
    "#T_vect_temp = np.linspace(1,100);\n",
    "#H_vect_temp = [];\n",
    "#m_temp = 1;\n",
    "#sigma_temp = 1;\n",
    "#for T in T_vect_temp:\n",
    "#    H_vect_temp.append(H(T));\n",
    "#plt.plot(T_vect_temp,H_vect_temp);\n",
    "#plt.xlabel(\"Freeze-out temperature T\");\n",
    "#plt.ylabel(\"Hubble constant H\");\n",
    "#plt.show();"
   ]
  },
  {
   "cell_type": "markdown",
   "metadata": {},
   "source": [
    "## Hot dark matter"
   ]
  },
  {
   "cell_type": "code",
   "execution_count": 6,
   "metadata": {},
   "outputs": [
    {
     "name": "stderr",
     "output_type": "stream",
     "text": [
      "/home/anders/.local/lib/python3.6/site-packages/scipy/optimize/minpack.py:162: RuntimeWarning: The number of calls to function has reached maxfev = 400.\n",
      "  warnings.warn(msg, RuntimeWarning)\n"
     ]
    },
    {
     "data": {
      "image/png": "[encoded data removed]",
      "text/plain": [
       "<Figure size 432x288 with 1 Axes>"
      ]
     },
     "metadata": {
      "needs_background": "light"
     },
     "output_type": "display_data"
    }
   ],
   "source": [
    "#plot Omega as a fn of m with constant sigma\n",
    "m_vect = np.linspace(0.01,10,100)\n",
    "Omega_vect = []\n",
    "for m in m_vect:\n",
    "    T_fo = T_fo_solver(rel=True,m=m)[0]\n",
    "    #print(\"m = {}\".format(m))\n",
    "    #print(\"T = {}\".format(T_fo))\n",
    "    #print(\"Omega = {}\".format(Omega(T_fo,m,True)))\n",
    "    Omega_vect.append(Omega(T_fo,m,True))\n",
    "    \n",
    "plt.plot(m_vect,Omega_vect)\n",
    "plt.xlabel(\"Mass of DM particle $m$ [$eV$]\")\n",
    "plt.ylabel(\"Present-day abundance of DM $\\Omega$\")\n",
    "plt.show()"
   ]
  },
  {
   "cell_type": "code",
   "execution_count": 7,
   "metadata": {},
   "outputs": [
    {
     "data": {
      "image/png": "[encoded data removed]",
      "text/plain": [
       "<Figure size 432x288 with 1 Axes>"
      ]
     },
     "metadata": {
      "needs_background": "light"
     },
     "output_type": "display_data"
    }
   ],
   "source": [
    "#plot Omega as a fn of sigma with constant m. parameter alpha\n",
    "#defined for ease of plotting, see fn sigma\n",
    "m_const = 1\n",
    "alpha_vect = np.linspace(1,1000,100)\n",
    "sigma_vect = []\n",
    "Omega_vect = []\n",
    "for alpha in alpha_vect:\n",
    "    T_fo = T_fo_solver(rel=True,alpha=alpha,m=m)[0]\n",
    "    sigma_vect.append(alpha*G_F**2*T_fo**2)\n",
    "    Omega_vect.append(Omega(T_fo,m_const))\n",
    "plt.plot(sigma_vect,Omega_vect)\n",
    "plt.xscale('linear')\n",
    "plt.xlabel(\"Self-interaction cross-section $\\sigma$ of DM\")\n",
    "plt.ylabel(\"Present-day abundance of DM $\\Omega$\")\n",
    "plt.show()"
   ]
  },
  {
   "cell_type": "markdown",
   "metadata": {},
   "source": [
    "## Cold dark matter"
   ]
  },
  {
   "cell_type": "code",
   "execution_count": 11,
   "metadata": {},
   "outputs": [
    {
     "ename": "TypeError",
     "evalue": "T_fo_solver() got an unexpected keyword argument 'alpha'",
     "output_type": "error",
     "traceback": [
      "\u001b[0;31m---------------------------------------------------------------------------\u001b[0m",
      "\u001b[0;31mTypeError\u001b[0m                                 Traceback (most recent call last)",
      "\u001b[0;32m<ipython-input-11-77815b183b75>\u001b[0m in \u001b[0;36m<module>\u001b[0;34m\u001b[0m\n\u001b[1;32m      3\u001b[0m \u001b[0mOmega_vect\u001b[0m \u001b[0;34m=\u001b[0m \u001b[0;34m[\u001b[0m\u001b[0;34m]\u001b[0m\u001b[0;34m\u001b[0m\u001b[0m\n\u001b[1;32m      4\u001b[0m \u001b[0;32mfor\u001b[0m \u001b[0mm\u001b[0m \u001b[0;32min\u001b[0m \u001b[0mm_vect\u001b[0m\u001b[0;34m:\u001b[0m\u001b[0;34m\u001b[0m\u001b[0m\n\u001b[0;32m----> 5\u001b[0;31m     \u001b[0mT_fo\u001b[0m \u001b[0;34m=\u001b[0m \u001b[0mT_fo_solver\u001b[0m\u001b[0;34m(\u001b[0m\u001b[0mrel\u001b[0m\u001b[0;34m=\u001b[0m\u001b[0;32mFalse\u001b[0m\u001b[0;34m,\u001b[0m\u001b[0malpha\u001b[0m\u001b[0;34m=\u001b[0m\u001b[0;36m1\u001b[0m\u001b[0;34m,\u001b[0m\u001b[0mm\u001b[0m\u001b[0;34m=\u001b[0m\u001b[0mm\u001b[0m\u001b[0;34m)\u001b[0m\u001b[0;34m[\u001b[0m\u001b[0;36m0\u001b[0m\u001b[0;34m]\u001b[0m\u001b[0;34m\u001b[0m\u001b[0m\n\u001b[0m\u001b[1;32m      6\u001b[0m     \u001b[0mOmega_vect\u001b[0m\u001b[0;34m.\u001b[0m\u001b[0mappend\u001b[0m\u001b[0;34m(\u001b[0m\u001b[0mOmega\u001b[0m\u001b[0;34m(\u001b[0m\u001b[0mT_fo\u001b[0m\u001b[0;34m,\u001b[0m\u001b[0mm\u001b[0m\u001b[0;34m,\u001b[0m\u001b[0;32mFalse\u001b[0m\u001b[0;34m)\u001b[0m\u001b[0;34m)\u001b[0m\u001b[0;34m\u001b[0m\u001b[0m\n\u001b[1;32m      7\u001b[0m \u001b[0;34m\u001b[0m\u001b[0m\n",
      "\u001b[0;31mTypeError\u001b[0m: T_fo_solver() got an unexpected keyword argument 'alpha'"
     ]
    }
   ],
   "source": [
    "#plot Omega as a fn of m with constant sigma\n",
    "m_vect = np.linspace(10**9,10*10**12)\n",
    "Omega_vect = []\n",
    "for m in m_vect:\n",
    "    T_fo = T_fo_solver(rel=False,alpha=1,m=m)[0]\n",
    "    Omega_vect.append(Omega(T_fo,m,False))\n",
    "    \n",
    "plt.plot(m_vect,Omega_vect)\n",
    "plt.xlabel(\"Mass of DM particle $m$ [$eV$]\")\n",
    "plt.ylabel(\"Present-day abundance of DM $\\Omega$\")\n",
    "plt.show()"
   ]
  },
  {
   "cell_type": "code",
   "execution_count": 9,
   "metadata": {},
   "outputs": [
    {
     "data": {
      "image/png": "[encoded data removed]",
      "text/plain": [
       "<Figure size 432x288 with 1 Axes>"
      ]
     },
     "metadata": {
      "needs_background": "light"
     },
     "output_type": "display_data"
    },
    {
     "data": {
      "text/plain": [
       "      converged: True\n",
       "           flag: 'converged'\n",
       " function_calls: 62\n",
       "     iterations: 61\n",
       "           root: 3842663.8270314126"
      ]
     },
     "execution_count": 9,
     "metadata": {},
     "output_type": "execute_result"
    }
   ],
   "source": [
    "#sanity check for T_fo_solver. Plot composite function for hot DM, make sure that the roots are valid\n",
    "def T_fo_solver(rel=True):\n",
    "    def composite(T):\n",
    "        return H(T) - (n(T)*v(T,rel)*sigma(T))\n",
    "    T_vect = np.linspace(-10**6,5*10**6)\n",
    "    composite_vect = []\n",
    "    for i in T_vect:\n",
    "        composite_vect.append(composite(i))\n",
    "    plt.plot(T_vect,composite_vect)\n",
    "    plt.show()\n",
    "    return scipy.optimize.root_scalar(composite,bracket=[-10**12,10**9],x0=0)\n",
    "\n",
    "T_fo_solver()\n"
   ]
  },
  {
   "cell_type": "markdown",
   "metadata": {},
   "source": [
    "$T_{fo} \\sim MeV$. Reasonable, as this is approximately the freeze-out temperature of neutrinos.  We're treating very light DM particles of relativistic speeds - basically neutrinos."
   ]
  },
  {
   "cell_type": "code",
   "execution_count": 10,
   "metadata": {},
   "outputs": [
    {
     "ename": "Exception",
     "evalue": "for cold DM, mass needs to be specified",
     "output_type": "error",
     "traceback": [
      "\u001b[0;31m---------------------------------------------------------------------------\u001b[0m",
      "\u001b[0;31mException\u001b[0m                                 Traceback (most recent call last)",
      "\u001b[0;32m<ipython-input-10-cfe46463793f>\u001b[0m in \u001b[0;36m<module>\u001b[0;34m\u001b[0m\n\u001b[1;32m     11\u001b[0m     \u001b[0;32mreturn\u001b[0m \u001b[0mscipy\u001b[0m\u001b[0;34m.\u001b[0m\u001b[0moptimize\u001b[0m\u001b[0;34m.\u001b[0m\u001b[0mroot_scalar\u001b[0m\u001b[0;34m(\u001b[0m\u001b[0mcomposite\u001b[0m\u001b[0;34m,\u001b[0m\u001b[0mbracket\u001b[0m\u001b[0;34m=\u001b[0m\u001b[0;34m[\u001b[0m\u001b[0;34m-\u001b[0m\u001b[0;36m10\u001b[0m\u001b[0;34m**\u001b[0m\u001b[0;36m12\u001b[0m\u001b[0;34m,\u001b[0m\u001b[0;36m10\u001b[0m\u001b[0;34m**\u001b[0m\u001b[0;36m9\u001b[0m\u001b[0;34m]\u001b[0m\u001b[0;34m,\u001b[0m\u001b[0mx0\u001b[0m\u001b[0;34m=\u001b[0m\u001b[0;36m0\u001b[0m\u001b[0;34m)\u001b[0m\u001b[0;34m\u001b[0m\u001b[0m\n\u001b[1;32m     12\u001b[0m \u001b[0;34m\u001b[0m\u001b[0m\n\u001b[0;32m---> 13\u001b[0;31m \u001b[0mT_fo_solver\u001b[0m\u001b[0;34m(\u001b[0m\u001b[0;32mFalse\u001b[0m\u001b[0;34m)\u001b[0m\u001b[0;34m\u001b[0m\u001b[0m\n\u001b[0m",
      "\u001b[0;32m<ipython-input-10-cfe46463793f>\u001b[0m in \u001b[0;36mT_fo_solver\u001b[0;34m(rel)\u001b[0m\n\u001b[1;32m      6\u001b[0m     \u001b[0mcomposite_vect\u001b[0m \u001b[0;34m=\u001b[0m \u001b[0;34m[\u001b[0m\u001b[0;34m]\u001b[0m\u001b[0;34m\u001b[0m\u001b[0m\n\u001b[1;32m      7\u001b[0m     \u001b[0;32mfor\u001b[0m \u001b[0mi\u001b[0m \u001b[0;32min\u001b[0m \u001b[0mT_vect\u001b[0m\u001b[0;34m:\u001b[0m\u001b[0;34m\u001b[0m\u001b[0m\n\u001b[0;32m----> 8\u001b[0;31m         \u001b[0mcomposite_vect\u001b[0m\u001b[0;34m.\u001b[0m\u001b[0mappend\u001b[0m\u001b[0;34m(\u001b[0m\u001b[0mcomposite\u001b[0m\u001b[0;34m(\u001b[0m\u001b[0mi\u001b[0m\u001b[0;34m)\u001b[0m\u001b[0;34m)\u001b[0m\u001b[0;34m\u001b[0m\u001b[0m\n\u001b[0m\u001b[1;32m      9\u001b[0m     \u001b[0mplt\u001b[0m\u001b[0;34m.\u001b[0m\u001b[0mplot\u001b[0m\u001b[0;34m(\u001b[0m\u001b[0mT_vect\u001b[0m\u001b[0;34m,\u001b[0m\u001b[0mcomposite_vect\u001b[0m\u001b[0;34m)\u001b[0m\u001b[0;34m\u001b[0m\u001b[0m\n\u001b[1;32m     10\u001b[0m     \u001b[0mplt\u001b[0m\u001b[0;34m.\u001b[0m\u001b[0mshow\u001b[0m\u001b[0;34m(\u001b[0m\u001b[0;34m)\u001b[0m\u001b[0;34m\u001b[0m\u001b[0m\n",
      "\u001b[0;32m<ipython-input-10-cfe46463793f>\u001b[0m in \u001b[0;36mcomposite\u001b[0;34m(T)\u001b[0m\n\u001b[1;32m      2\u001b[0m \u001b[0;32mdef\u001b[0m \u001b[0mT_fo_solver\u001b[0m\u001b[0;34m(\u001b[0m\u001b[0mrel\u001b[0m\u001b[0;34m=\u001b[0m\u001b[0;32mTrue\u001b[0m\u001b[0;34m)\u001b[0m\u001b[0;34m:\u001b[0m\u001b[0;34m\u001b[0m\u001b[0m\n\u001b[1;32m      3\u001b[0m     \u001b[0;32mdef\u001b[0m \u001b[0mcomposite\u001b[0m\u001b[0;34m(\u001b[0m\u001b[0mT\u001b[0m\u001b[0;34m)\u001b[0m\u001b[0;34m:\u001b[0m\u001b[0;34m\u001b[0m\u001b[0m\n\u001b[0;32m----> 4\u001b[0;31m         \u001b[0;32mreturn\u001b[0m \u001b[0mH\u001b[0m\u001b[0;34m(\u001b[0m\u001b[0mT\u001b[0m\u001b[0;34m)\u001b[0m \u001b[0;34m-\u001b[0m \u001b[0;34m(\u001b[0m\u001b[0mn\u001b[0m\u001b[0;34m(\u001b[0m\u001b[0mT\u001b[0m\u001b[0;34m)\u001b[0m\u001b[0;34m*\u001b[0m\u001b[0mv\u001b[0m\u001b[0;34m(\u001b[0m\u001b[0mT\u001b[0m\u001b[0;34m,\u001b[0m\u001b[0mrel\u001b[0m\u001b[0;34m)\u001b[0m\u001b[0;34m*\u001b[0m\u001b[0msigma\u001b[0m\u001b[0;34m(\u001b[0m\u001b[0mT\u001b[0m\u001b[0;34m)\u001b[0m\u001b[0;34m)\u001b[0m\u001b[0;34m\u001b[0m\u001b[0m\n\u001b[0m\u001b[1;32m      5\u001b[0m     \u001b[0mT_vect\u001b[0m \u001b[0;34m=\u001b[0m \u001b[0mnp\u001b[0m\u001b[0;34m.\u001b[0m\u001b[0mlinspace\u001b[0m\u001b[0;34m(\u001b[0m\u001b[0;34m-\u001b[0m\u001b[0;36m10\u001b[0m\u001b[0;34m**\u001b[0m\u001b[0;36m6\u001b[0m\u001b[0;34m,\u001b[0m\u001b[0;36m5\u001b[0m\u001b[0;34m*\u001b[0m\u001b[0;36m10\u001b[0m\u001b[0;34m**\u001b[0m\u001b[0;36m6\u001b[0m\u001b[0;34m)\u001b[0m\u001b[0;34m\u001b[0m\u001b[0m\n\u001b[1;32m      6\u001b[0m     \u001b[0mcomposite_vect\u001b[0m \u001b[0;34m=\u001b[0m \u001b[0;34m[\u001b[0m\u001b[0;34m]\u001b[0m\u001b[0;34m\u001b[0m\u001b[0m\n",
      "\u001b[0;32m<ipython-input-4-4da5ee9ff7ce>\u001b[0m in \u001b[0;36mv\u001b[0;34m(T, rel, m)\u001b[0m\n\u001b[1;32m     35\u001b[0m     \u001b[0;32melse\u001b[0m\u001b[0;34m:\u001b[0m\u001b[0;34m\u001b[0m\u001b[0m\n\u001b[1;32m     36\u001b[0m         \u001b[0;32mif\u001b[0m \u001b[0mm\u001b[0m \u001b[0;34m==\u001b[0m \u001b[0;36m0\u001b[0m\u001b[0;34m:\u001b[0m\u001b[0;34m\u001b[0m\u001b[0m\n\u001b[0;32m---> 37\u001b[0;31m             \u001b[0;32mraise\u001b[0m \u001b[0mException\u001b[0m\u001b[0;34m(\u001b[0m\u001b[0;34m\"for cold DM, mass needs to be specified\"\u001b[0m\u001b[0;34m)\u001b[0m\u001b[0;34m\u001b[0m\u001b[0m\n\u001b[0m\u001b[1;32m     38\u001b[0m         \u001b[0;32melse\u001b[0m\u001b[0;34m:\u001b[0m\u001b[0;34m\u001b[0m\u001b[0m\n\u001b[1;32m     39\u001b[0m             \u001b[0;32mreturn\u001b[0m \u001b[0;34m(\u001b[0m\u001b[0;36m3\u001b[0m\u001b[0;34m*\u001b[0m\u001b[0mk_B\u001b[0m\u001b[0;34m*\u001b[0m\u001b[0mT\u001b[0m\u001b[0;34m/\u001b[0m\u001b[0mm\u001b[0m\u001b[0;34m)\u001b[0m\u001b[0;34m**\u001b[0m\u001b[0;34m(\u001b[0m\u001b[0;36m1\u001b[0m\u001b[0;34m/\u001b[0m\u001b[0;36m2\u001b[0m\u001b[0;34m)\u001b[0m\u001b[0;34m\u001b[0m\u001b[0m\n",
      "\u001b[0;31mException\u001b[0m: for cold DM, mass needs to be specified"
     ]
    }
   ],
   "source": [
    "#sanity check for T_fo_solver. Plot composite function for cold DM, make sure that the roots are valid\n",
    "def T_fo_solver(rel=True):\n",
    "    def composite(T):\n",
    "        return H(T) - (n(T)*v(T,rel)*sigma(T))\n",
    "    T_vect = np.linspace(-10**6,5*10**6)\n",
    "    composite_vect = []\n",
    "    for i in T_vect:\n",
    "        composite_vect.append(composite(i))\n",
    "    plt.plot(T_vect,composite_vect)\n",
    "    plt.show()\n",
    "    return scipy.optimize.root_scalar(composite,bracket=[-10**12,10**9],x0=0)\n",
    "\n",
    "T_fo_solver(False)\n"
   ]
  }
 ],
 "metadata": {
  "kernelspec": {
   "display_name": "Python 3",
   "language": "python",
   "name": "python3"
  },
  "language_info": {
   "codemirror_mode": {
    "name": "ipython",
    "version": 3
   },
   "file_extension": ".py",
   "mimetype": "text/x-python",
   "name": "python",
   "nbconvert_exporter": "python",
   "pygments_lexer": "ipython3",
   "version": "3.6.6"
  }
 },
 "nbformat": 4,
 "nbformat_minor": 2
}
