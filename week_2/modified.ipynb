{
 "cells": [
  {
   "cell_type": "markdown",
   "metadata": {},
   "source": [
    "# Dark Matter Halo\n",
    "## Preamble"
   ]
  },
  {
   "cell_type": "code",
   "execution_count": null,
   "metadata": {},
   "outputs": [],
   "source": [
    "import matplotlib.pyplot as plt\n",
    "import numpy as np\n",
    "import scipy.integrate as integrate\n",
    "from IPython.display import Latex\n",
    "\n",
    "# comment out the following lines if seaborn is not installed\n",
    "#import seaborn as sns\n",
    "#sns.set(rc={'text.usetex' : True})\n",
    "#sns.set_context(\"paper\", font_scale=2)\n",
    "#sns.set_style(\"ticks\", {'axes.grid': False,\n",
    "#                        'axes.linewidth': 1.5,\n",
    "#                        'legend.frameon':True,\n",
    "#                        'useTex':True})"
   ]
  },
  {
   "cell_type": "markdown",
   "metadata": {},
   "source": [
    "## Units and Constants"
   ]
  },
  {
   "cell_type": "code",
   "execution_count": null,
   "metadata": {},
   "outputs": [],
   "source": [
    "GeV  = 1.\n",
    "s    = 1.\n",
    "cm   = 1.\n",
    "km   = 1.e5*cm\n",
    "m    = 1.e2*cm\n",
    "pc   = 3.086e18*cm\n",
    "kpc  = 1e3*pc\n",
    "Mpc  = 1.e6*pc\n",
    "Msun = 1.11575e57*GeV\n",
    "rad  = np.pi/180.\n",
    "\n",
    "#DM density\n",
    "Omega_m = 0.32 #assuming constant DM density in the Milky Way\n",
    "\n",
    "#cutoff parameter for halo definition\n",
    "delta_vir = 18*np.pi**2+82*(Omega_m-1)-39*(Omega_m-1)**2\n",
    "#without the correction from DM abundance\n",
    "#delta_vir = 18*np.pi**2\n",
    "\n",
    "#halo concentration\n",
    "c_vir = 10\n",
    "\n",
    "#mass of the Milky Way halo\n",
    "M = 10**12*Msun\n",
    "\n",
    "#Hubble constant\n",
    "H_0 = 70*km/(s*Mpc)\n",
    "\n",
    "#gravitational constant\n",
    "G = 4.30091*10**-3*pc*Msun**-1*(km/s)**2\n",
    "\n",
    "#critical density\n",
    "rho_c = H_0**2*3/(8*np.pi*G)\n",
    "\n",
    "#virial radius\n",
    "r_vir = (3*M/(4*np.pi*delta_vir*rho_c))**(1/3)\n",
    "\n",
    "#distance of Earth from the galactic center\n",
    "d = 8.122*kpc"
   ]
  },
  {
   "cell_type": "markdown",
   "metadata": {},
   "source": [
    "## Estimates for $r_s$ and $\\rho_s$"
   ]
  },
  {
   "cell_type": "code",
   "execution_count": null,
   "metadata": {},
   "outputs": [],
   "source": [
    "r_s = r_vir/c_vir\n",
    "\n",
    "rho_s = M/(4*np.pi*r_s**3*(np.log(1+c_vir)-c_vir/(1+c_vir)))\n",
    "\n",
    "display(Latex(r'We find that, for the Milky Way halo, '+\n",
    "              '$r_s='+str(round(r_s/kpc,1))+'$ kpc and '+\n",
    "              '$\\\\rho_s='+str(round(rho_s,2))+'$ GeV$/$cm$^3$'+\n",
    "              ', but we will proceed with calculations using given values.'))\n",
    "\n",
    "r_s = 20.*kpc\n",
    "\n",
    "rho_s = 0.3"
   ]
  },
  {
   "cell_type": "markdown",
   "metadata": {},
   "source": [
    "## Calculations"
   ]
  },
  {
   "cell_type": "code",
   "execution_count": null,
   "metadata": {},
   "outputs": [],
   "source": [
    "def rho_DM(r):\n",
    "    \"\"\"\n",
    "    Returns DM density following NFW profile\n",
    "    \"\"\"\n",
    "    return rho_s/((r/r_s)*((r/r_s)+1)**2)\n",
    "\n",
    "\n",
    "def radius(l, psi, theta, deg=True):\n",
    "    \"\"\"\n",
    "    Returns radius measured from GC as function of:\n",
    "     - l: distance from Earth\n",
    "     - psi: longitude\n",
    "     - theta: latitude\n",
    "     \n",
    "     If psi and theta are in degrees, they will be\n",
    "     converted to rads if \"deg=True\"\n",
    "     \"\"\"\n",
    "    if deg:\n",
    "        psi = psi*rad\n",
    "        theta = theta*rad\n",
    "    return np.sqrt(d**2+l**2-2*d*l*np.cos(psi)*np.cos(theta))\n",
    "\n",
    "\n",
    "def dJ_dOmega(psi, theta, N=10**3, deg=True):\n",
    "    \"\"\"\n",
    "    Returns differential J-factor as a function of psi and theta\n",
    "    This is done by integrating along line of sight\n",
    "    N is the number of cells used in the calculation\n",
    "    \"\"\"\n",
    "    l_0 = 0.\n",
    "    l_f = 500.*kpc\n",
    "    dl = (l_f - l_0)/N\n",
    "    # create array of midpoints\n",
    "    l_mids = np.linspace(dl/2, l_f-dl/2., N)\n",
    "    rs = radius(l_mids, psi, theta, deg)\n",
    "    s = np.sum(rho_DM(rs)**2.)\n",
    "    return s*dl\n",
    "\n",
    "def J_GC(n=100):\n",
    "    \"\"\"\n",
    "    Returns J-factor around GC\n",
    "    Integrates over a circle with radius 0.5 degree\n",
    "    \"\"\"\n",
    "    psi_0 = -0.5\n",
    "    psi_f = 0.5\n",
    "    dpsi = (psi_f - psi_0)/n\n",
    "    psi_vect = np.linspace(psi_0 + dpsi/2, psi_f - dpsi/2, n)\n",
    "    theta_vect = psi_vect\n",
    "    \n",
    "    J_vect = np.zeros((n,n))\n",
    "    \n",
    "    for i in range(len(psi_vect)):\n",
    "        for j in range(len(theta_vect)):\n",
    "            J_vect[i,j] = dJ_dOmega(psi_vect[i],theta_vect[j],deg=True)\n",
    "    \n",
    "    xx, yy = np.meshgrid(psi_vect, theta_vect, sparse=True)\n",
    "    dist = np.sqrt(xx**2 + yy**2)\n",
    "    \n",
    "    return np.mean(J_vect[dist<0.5])\n",
    "\n",
    "\n",
    "display(Latex(r'We find that '+\n",
    "              '$J='+str(round(J_GC()*10**-24,1))+'\\\\times 10^{24}$ GeV$^2/$cm$^5$'+\n",
    "              ' for a circle of radius $0.5$ degrees around the galactic center.'))"
   ]
  },
  {
   "cell_type": "markdown",
   "metadata": {},
   "source": [
    "## Plotting"
   ]
  },
  {
   "cell_type": "markdown",
   "metadata": {},
   "source": [
    "### NFW Profile"
   ]
  },
  {
   "cell_type": "code",
   "execution_count": null,
   "metadata": {},
   "outputs": [],
   "source": [
    "rs = np.linspace(0, 2*r_vir)\n",
    "\n",
    "plt.figure(figsize=(10,8))\n",
    "plt.plot(rs/kpc, rho_DM(rs))\n",
    "plt.yscale('log')\n",
    "plt.xscale('log')\n",
    "plt.ylabel(r'$\\rho_\\chi$ (GeV$/$cm$^3$)')\n",
    "plt.xlabel(r'$r$ (kpc)')\n",
    "plt.axvline(r_s/kpc)\n",
    "plt.text(r_s/kpc-5.5,3e-5,r'$r_s$',fontsize=30)\n",
    "plt.axvline(r_vir/kpc)\n",
    "plt.text(r_vir/kpc-75,3e-5,r'$r_{vir}$',fontsize=30)\n",
    "plt.show()"
   ]
  },
  {
   "cell_type": "markdown",
   "metadata": {},
   "source": [
    "### Differential $J$-factor as a function of angle $\\psi$"
   ]
  },
  {
   "cell_type": "code",
   "execution_count": null,
   "metadata": {},
   "outputs": [],
   "source": [
    "psis = np.linspace(0, 90, num=50)\n",
    "dJ_dOmega_vect = []\n",
    "for psi in psis:\n",
    "    dJ_dOmega_vect.append(dJ_dOmega(psi,0))\n",
    "    \n",
    "plt.figure(figsize=(10,8))\n",
    "plt.plot(psis, dJ_dOmega_vect,0)\n",
    "plt.yscale('log')\n",
    "plt.xscale('linear')\n",
    "plt.ylabel(r'$\\frac{dJ}{d\\Omega}$ (GeV$^2/$cm$^5$)')\n",
    "plt.xlabel(r'$\\psi$ (deg)')\n",
    "plt.show()"
   ]
  },
  {
   "cell_type": "markdown",
   "metadata": {},
   "source": [
    "### Convergence Tests"
   ]
  },
  {
   "cell_type": "code",
   "execution_count": null,
   "metadata": {},
   "outputs": [],
   "source": [
    "tests = False  # change to True to display plots\n",
    "\n",
    "if tests:\n",
    "    Ns = np.logspace(1, 3, num = 10)\n",
    "    dJ_dOmega_vect = []\n",
    "    for N in Ns:\n",
    "        dJ_dOmega_vect.append(dJ_dOmega(1.0, 1.0, int(N), deg=False))\n",
    "    plt.figure(figsize=(10,8))\n",
    "    plt.plot(Ns, dJ_dOmega_vect)\n",
    "    plt.yscale('log')\n",
    "    plt.xscale('log')\n",
    "    plt.ylabel(r'$\\frac{dJ}{d\\Omega}$')\n",
    "    plt.xlabel('Number of cells')\n",
    "    plt.title(r\"Convergence Test of $\\frac{dJ}{d\\Omega}$ for $\\psi=1$ rad and $\\theta=1$ rad\")\n",
    "    plt.show()\n",
    "    \n",
    "    Ns = np.logspace(1, 3, num = 5)\n",
    "    J_vect = []\n",
    "    for N in Ns:\n",
    "        J_vect.append(J_GC(int(N)))\n",
    "    plt.figure(figsize=(10,8))\n",
    "    plt.plot(Ns, J_vect)\n",
    "    plt.yscale('log')\n",
    "    plt.xscale('log')\n",
    "    plt.ylabel(r'$J$-factor')\n",
    "    plt.xlabel('Square root of the number of cells')\n",
    "    plt.title(r\"Convergence Test of $J$-factor\")\n",
    "    plt.show()"
   ]
  }
 ],
 "metadata": {
  "kernelspec": {
   "display_name": "Python 3",
   "language": "python",
   "name": "python3"
  },
  "language_info": {
   "codemirror_mode": {
    "name": "ipython",
    "version": 3
   },
   "file_extension": ".py",
   "mimetype": "text/x-python",
   "name": "python",
   "nbconvert_exporter": "python",
   "pygments_lexer": "ipython3",
   "version": "3.6.6"
  }
 },
 "nbformat": 4,
 "nbformat_minor": 2
}
