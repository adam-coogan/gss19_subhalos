{
 "cells": [
  {
   "cell_type": "code",
   "execution_count": 2,
   "metadata": {},
   "outputs": [],
   "source": [
    "import matplotlib.pyplot as plt\n",
    "import numpy as np"
   ]
  },
  {
   "cell_type": "code",
   "execution_count": 65,
   "metadata": {},
   "outputs": [],
   "source": [
    "#define units and constants\n",
    "GeV  = 1.\n",
    "s    = 1.\n",
    "cm   = 1.\n",
    "km   = 1.e5*cm\n",
    "m    = 1.e2*cm\n",
    "pc   = 3.e18*cm\n",
    "kpc  = 1.e3*pc\n",
    "Msun = 1.1e57*GeV\n",
    "\n",
    "#DM density\n",
    "Omega_m = 0.32 #assuming constant DM density in the Milky Way\n",
    "\n",
    "#cutoff parameter for halo definition\n",
    "delta_vir = 18*np.pi**2+82*(Omega_m-1)-39*(Omega_m-1)**2\n",
    "#without the correction from DM abundance\n",
    "#delta_vir = 18*np.pi**2\n",
    "\n",
    "#halo concentration\n",
    "c_vir = 10\n",
    "\n",
    "#mass of the Milky Way halo\n",
    "M = 10**12*Msun\n",
    "\n",
    "#Hubble constant\n",
    "H_0 = 70*km/(s*10**6*pc)\n",
    "#gravitational constant\n",
    "G = 4.30091*10**-3*pc*Msun**-1*(km/s)**2\n",
    "#critical density\n",
    "rho_c = H_0**2*3/(8*np.pi*G)\n",
    "\n",
    "#virial radius\n",
    "r_vir = (3*M/(4*np.pi*delta_vir*rho_c))**(1/3)"
   ]
  },
  {
   "cell_type": "code",
   "execution_count": 66,
   "metadata": {},
   "outputs": [
    {
     "name": "stdout",
     "output_type": "stream",
     "text": [
      "r_s = 25.66352580297586 kpc\n",
      "rho_s = 0.12883458352492008 GeV*cm^-3\n"
     ]
    }
   ],
   "source": [
    "#estimate scale radius r_s and characteristic density rho_s for the Milky Way halo\n",
    "r_s = r_vir/c_vir\n",
    "\n",
    "print(\"r_s = {} kpc\".format(r_s/kpc))\n",
    "\n",
    "rho_s = M/(4*np.pi*r_s**3*(np.log(1+c_vir)-c_vir/(1+c_vir)))\n",
    "\n",
    "print(\"rho_s = {} GeV*cm^-3\".format(rho_s))"
   ]
  },
  {
   "cell_type": "code",
   "execution_count": null,
   "metadata": {},
   "outputs": [],
   "source": []
  }
 ],
 "metadata": {
  "kernelspec": {
   "display_name": "Python 3",
   "language": "python",
   "name": "python3"
  },
  "language_info": {
   "codemirror_mode": {
    "name": "ipython",
    "version": 3
   },
   "file_extension": ".py",
   "mimetype": "text/x-python",
   "name": "python",
   "nbconvert_exporter": "python",
   "pygments_lexer": "ipython3",
   "version": "3.6.6"
  }
 },
 "nbformat": 4,
 "nbformat_minor": 2
}
