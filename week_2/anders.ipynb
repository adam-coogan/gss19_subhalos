{
 "cells": [
  {
   "cell_type": "markdown",
   "metadata": {},
   "source": [
    "# Dark Matter Halo\n",
    "## Preamble:"
   ]
  },
  {
   "cell_type": "code",
   "execution_count": null,
   "metadata": {},
   "outputs": [],
   "source": [
    "import matplotlib.pyplot as plt\n",
    "import numpy as np\n",
    "import scipy.integrate as integrate\n",
    "from IPython.display import Latex\n",
    "\n",
    "# comment out the following lines if seaborn is not installed\n",
    "import seaborn as sns\n",
    "sns.set(rc={'text.usetex' : True})\n",
    "sns.set_context(\"paper\", font_scale=2)\n",
    "sns.set_style(\"ticks\", {'axes.grid': False,\n",
    "                        'axes.linewidth': 1.5,\n",
    "                        'legend.frameon':True,\n",
    "                        'useTex':True})"
   ]
  },
  {
   "cell_type": "markdown",
   "metadata": {},
   "source": [
    "## Units and Constants"
   ]
  },
  {
   "cell_type": "code",
   "execution_count": null,
   "metadata": {},
   "outputs": [],
   "source": [
    "GeV  = 1.\n",
    "s    = 1.\n",
    "cm   = 1.\n",
    "km   = 1.e5*cm\n",
    "m    = 1.e2*cm\n",
    "pc   = 3.086e18*cm\n",
    "kpc  = 1.e3*pc\n",
    "Mpc  = 1.e6*pc\n",
    "Msun = 1.11575e57*GeV\n",
    "\n",
    "#DM density\n",
    "Omega_m = 0.32 #assuming constant DM density in the Milky Way\n",
    "\n",
    "#cutoff parameter for halo definition\n",
    "delta_vir = 18*np.pi**2+82*(Omega_m-1)-39*(Omega_m-1)**2\n",
    "#without the correction from DM abundance\n",
    "#delta_vir = 18*np.pi**2\n",
    "\n",
    "#halo concentration\n",
    "c_vir = 10\n",
    "\n",
    "#mass of the Milky Way halo\n",
    "M = 10**12*Msun\n",
    "\n",
    "#Hubble constant\n",
    "H_0 = 70*km/(s*Mpc)\n",
    "#gravitational constant\n",
    "G = 4.30091*10**-3*pc*Msun**-1*(km/s)**2  # are we sure of this? - André\n",
    "#critical density\n",
    "rho_c = H_0**2*3/(8*np.pi*G)\n",
    "\n",
    "#virial radius\n",
    "r_vir = (3*M/(4*np.pi*delta_vir*rho_c))**(1/3)\n",
    "\n",
    "#distance of Earth from the galactic center\n",
    "d = 8.122*pc"
   ]
  },
  {
   "cell_type": "markdown",
   "metadata": {},
   "source": [
    "## Estimates for $r_s$ and $\\rho_s$"
   ]
  },
  {
   "cell_type": "code",
   "execution_count": null,
   "metadata": {},
   "outputs": [],
   "source": [
    "r_s = r_vir/c_vir\n",
    "\n",
    "rho_s = M/(4*np.pi*r_s**3*(np.log(1+c_vir)-c_vir/(1+c_vir)))\n",
    "\n",
    "display(Latex(r'We find that, for the Milky Way halo, '+\n",
    "              '$r_s='+str(round(r_s/kpc,1))+'$ kpc and '+\n",
    "              '$\\\\rho_s='+str(round(rho_s,2))+'$ GeV$/$cm$^3$'))"
   ]
  },
  {
   "cell_type": "markdown",
   "metadata": {},
   "source": [
    "## Useful functions"
   ]
  },
  {
   "cell_type": "code",
   "execution_count": null,
   "metadata": {},
   "outputs": [],
   "source": [
    "def rho_DM(r):\n",
    "    \"\"\"\n",
    "    Returns DM density following NFW profile\n",
    "    \"\"\"\n",
    "    return rho_s/((r/r_s)*((r/r_s)+1)**2)\n",
    "\n",
    "\n",
    "def radius(l, psi):\n",
    "    \"\"\"\n",
    "    Returns radius measured from GC as function of:\n",
    "     - l: distance from Earth\n",
    "     - psi: angle measured from GC\n",
    "     \"\"\"\n",
    "    return np.sqrt(d**2+l**2-2*d*l*np.cos(psi))\n",
    "\n",
    "\n",
    "def dJ_dOmega(psi):\n",
    "    \"\"\"\n",
    "    Returns differential J-factor as a function of psi\n",
    "    \"\"\"\n",
    "    if not hasattr(psi, '__iter__'):\n",
    "        psi = np.array([psi])\n",
    "    result = []\n",
    "    for p in psi:\n",
    "        integrand = lambda l: rho_DM(radius(l, p))**2\n",
    "        result.append(integrate.quad(integrand, 0, 10*pc)[0])\n",
    "    return np.array(result)"
   ]
  },
  {
   "cell_type": "markdown",
   "metadata": {},
   "source": [
    "## Some plots\n",
    "### NFW Profile"
   ]
  },
  {
   "cell_type": "code",
   "execution_count": null,
   "metadata": {},
   "outputs": [],
   "source": [
    "rs = np.linspace(0, 2*r_vir)\n",
    "\n",
    "plt.figure(figsize=(10,8))\n",
    "plt.plot(rs/kpc, rho_DM(rs))\n",
    "plt.yscale('log')\n",
    "plt.xscale('log')\n",
    "plt.ylabel(r'$\\rho_\\chi(r)$')\n",
    "plt.xlabel(r'$r$ (kpc)')\n",
    "plt.axvline(r_s/kpc)\n",
    "plt.text(r_s/kpc-5.5,1e-5,r'$r_s$',fontsize=30)\n",
    "plt.axvline(r_vir/kpc)\n",
    "plt.text(r_vir/kpc-75,1e-5,r'$r_{vir}$',fontsize=30)\n",
    "plt.show()"
   ]
  },
  {
   "cell_type": "markdown",
   "metadata": {},
   "source": [
    "### Differential $J$-factor as a function of angle $\\psi$"
   ]
  },
  {
   "cell_type": "code",
   "execution_count": null,
   "metadata": {},
   "outputs": [],
   "source": [
    "psis = np.linspace(0, 90, num=500)\n",
    "\n",
    "plt.figure(figsize=(10,8))\n",
    "plt.plot(psis, dJ_dOmega(np.radians(psis)))\n",
    "plt.yscale('log')\n",
    "plt.xscale('linear')\n",
    "plt.ylabel(r'$$\\frac{dJ}{d\\Omega}(\\psi)$$')\n",
    "plt.xlabel(r'$\\psi$ (deg)')\n",
    "plt.show()"
   ]
  },
  {
   "cell_type": "markdown",
   "metadata": {},
   "source": [
    "## Computing $J$ around GC"
   ]
  },
  {
   "cell_type": "code",
   "execution_count": null,
   "metadata": {},
   "outputs": [],
   "source": [
    "def J_GC(psi_lim):\n",
    "    \"\"\"\n",
    "    Returns J measured within psi_lim degrees of GC\n",
    "    J is the integral of dJ_dOmega\n",
    "    psi_lim must be provided in radians\n",
    "    Note: solid angle term (2*np.pi) is correct? \n",
    "    \"\"\"\n",
    "    return 2*np.pi*integrate.quad(dJ_dOmega,0,psi_lim)[0]\n",
    "\n",
    "psi_lim = 0.5  # in degrees\n",
    "display(Latex(r'We find that, within '+str(psi_lim)+' degrees of '+\n",
    "              'GC, $J$ is $'+str(round(J_GC(np.radians(psi_lim))*10**-26,1))+'\\\\times 10^{26}$'))"
   ]
  }
 ],
 "metadata": {
  "kernelspec": {
   "display_name": "Python 3",
   "language": "python",
   "name": "python3"
  },
  "language_info": {
   "codemirror_mode": {
    "name": "ipython",
    "version": 3
   },
   "file_extension": ".py",
   "mimetype": "text/x-python",
   "name": "python",
   "nbconvert_exporter": "python",
   "pygments_lexer": "ipython3",
   "version": "3.6.8"
  }
 },
 "nbformat": 4,
 "nbformat_minor": 2
}
