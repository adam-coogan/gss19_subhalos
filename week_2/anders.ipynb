{
 "cells": [
  {
   "cell_type": "code",
   "execution_count": 9,
   "metadata": {},
   "outputs": [],
   "source": [
    "import matplotlib.pyplot as plt\n",
    "import numpy as np\n",
    "import scipy.integrate as integrate\n",
    "import scipy.special as special"
   ]
  },
  {
   "cell_type": "code",
   "execution_count": 4,
   "metadata": {},
   "outputs": [],
   "source": [
    "#define units and constants\n",
    "GeV  = 1.\n",
    "s    = 1.\n",
    "cm   = 1.\n",
    "km   = 1.e5*cm\n",
    "m    = 1.e2*cm\n",
    "pc   = 3.e18*cm\n",
    "kpc  = 1.e3*pc\n",
    "Msun = 1.1e57*GeV\n",
    "\n",
    "#DM density\n",
    "Omega_m = 0.32 #assuming constant DM density in the Milky Way\n",
    "\n",
    "#cutoff parameter for halo definition\n",
    "delta_vir = 18*np.pi**2+82*(Omega_m-1)-39*(Omega_m-1)**2\n",
    "#without the correction from DM abundance\n",
    "#delta_vir = 18*np.pi**2\n",
    "\n",
    "#halo concentration\n",
    "c_vir = 10\n",
    "\n",
    "#mass of the Milky Way halo\n",
    "M = 10**12*Msun\n",
    "\n",
    "#Hubble constant\n",
    "H_0 = 70*km/(s*10**6*pc)\n",
    "#gravitational constant\n",
    "G = 4.30091*10**-3*pc*Msun**-1*(km/s)**2\n",
    "#critical density\n",
    "rho_c = H_0**2*3/(8*np.pi*G)\n",
    "\n",
    "#virial radius\n",
    "r_vir = (3*M/(4*np.pi*delta_vir*rho_c))**(1/3)\n",
    "\n",
    "#distance of Earth from the galactic center\n",
    "d = 8.122*pc"
   ]
  },
  {
   "cell_type": "code",
   "execution_count": 6,
   "metadata": {},
   "outputs": [
    {
     "name": "stdout",
     "output_type": "stream",
     "text": [
      "r_s = 25.66352580297586 kpc\n",
      "rho_s = 0.12883458352492008 GeV*cm^-3\n"
     ]
    }
   ],
   "source": [
    "#estimate scale radius r_s and characteristic density rho_s for the Milky Way halo\n",
    "r_s = r_vir/c_vir\n",
    "\n",
    "print(\"r_s = {} kpc\".format(r_s/kpc))\n",
    "\n",
    "def rho(r):\n",
    "    return M/(4*np.pi*r**3*(np.log(1+c_vir)-c_vir/(1+c_vir)))\n",
    "\n",
    "rho_s = rho(r_s)\n",
    "print(\"rho_s = {} GeV*cm^-3\".format(rho_s))"
   ]
  },
  {
   "cell_type": "code",
   "execution_count": 24,
   "metadata": {},
   "outputs": [],
   "source": [
    "#plot dJ/dOmega as a function of psi\n",
    "\n",
    "#r = radial distance of DM annihilation event away from the galactic center\n",
    "#l = line-of-sight distance from Earth to DM annihilation event\n",
    "#dOmega = cos(psi)*dpsi*dphi line-of-sight solid angle\n",
    "#psi = pi/2 - theta, where theta is the polar angle of the spherical coordinate system centered on Earth\n",
    "\n",
    "def r(l, psi):\n",
    "    return np.sqrt(d**2 + l**2 - 2*d*l*np.cos(psi))\n",
    "\n",
    "l_const = 10*pc\n",
    "\n",
    "#calculate dJ/dOmega as a function of psi\n",
    "#def integrate_dJ_by_dOmega(psi):\n",
    "#    dJ_by_dOmega = lambda l: integrate.quad(rho(r(l_const,psi))**2)\n",
    "#    return integrate.quad(dJ_by_dOmega,0,np.pi)\n",
    "\n",
    "#TODO: calculate dJ/dOmega as a function of psi."
   ]
  }
 ],
 "metadata": {
  "kernelspec": {
   "display_name": "Python 3",
   "language": "python",
   "name": "python3"
  },
  "language_info": {
   "codemirror_mode": {
    "name": "ipython",
    "version": 3
   },
   "file_extension": ".py",
   "mimetype": "text/x-python",
   "name": "python",
   "nbconvert_exporter": "python",
   "pygments_lexer": "ipython3",
   "version": "3.6.6"
  }
 },
 "nbformat": 4,
 "nbformat_minor": 2
}
