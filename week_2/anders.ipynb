{
 "cells": [
  {
   "cell_type": "markdown",
   "metadata": {},
   "source": [
    "# Dark Matter Halo\n",
    "## Preamble:"
   ]
  },
  {
   "cell_type": "code",
   "execution_count": 1,
   "metadata": {},
   "outputs": [],
   "source": [
    "import matplotlib.pyplot as plt\n",
    "import numpy as np\n",
    "import scipy.integrate as integrate\n",
    "from IPython.display import Latex\n",
    "\n",
    "# comment out the following lines if seaborn is not installed\n",
    "#import seaborn as sns\n",
    "#sns.set(rc={'text.usetex' : True})\n",
    "#sns.set_context(\"paper\", font_scale=2)\n",
    "#sns.set_style(\"ticks\", {'axes.grid': False,\n",
    "#                        'axes.linewidth': 1.5,\n",
    "#                        'legend.frameon':True,\n",
    "#                        'useTex':True})"
   ]
  },
  {
   "cell_type": "markdown",
   "metadata": {},
   "source": [
    "## Units and Constants"
   ]
  },
  {
   "cell_type": "code",
   "execution_count": 2,
   "metadata": {},
   "outputs": [],
   "source": [
    "GeV  = 1.\n",
    "s    = 1.\n",
    "cm   = 1.\n",
    "km   = 1.e5*cm\n",
    "m    = 1.e2*cm\n",
    "pc   = 3.086e18*cm\n",
    "kpc  = 1.e3*pc\n",
    "Mpc  = 1.e6*pc\n",
    "Msun = 1.11575e57*GeV\n",
    "\n",
    "#DM density\n",
    "Omega_m = 0.32 #assuming constant DM density in the Milky Way\n",
    "\n",
    "#cutoff parameter for halo definition\n",
    "delta_vir = 18*np.pi**2+82*(Omega_m-1)-39*(Omega_m-1)**2\n",
    "#without the correction from DM abundance\n",
    "#delta_vir = 18*np.pi**2\n",
    "\n",
    "#halo concentration\n",
    "c_vir = 10\n",
    "\n",
    "#mass of the Milky Way halo\n",
    "M = 10**12*Msun\n",
    "\n",
    "#Hubble constant\n",
    "H_0 = 70*km/(s*Mpc)\n",
    "#gravitational constant\n",
    "G = 4.30091*10**-3*pc*Msun**-1*(km/s)**2  # are we sure of this? - André\n",
    "#critical density\n",
    "rho_c = H_0**2*3/(8*np.pi*G)\n",
    "\n",
    "#virial radius\n",
    "r_vir = (3*M/(4*np.pi*delta_vir*rho_c))**(1/3)\n",
    "\n",
    "#distance of Earth from the galactic center\n",
    "d = 8.122*pc"
   ]
  },
  {
   "cell_type": "markdown",
   "metadata": {},
   "source": [
    "## Estimates for $r_s$ and $\\rho_s$"
   ]
  },
  {
   "cell_type": "code",
   "execution_count": 3,
   "metadata": {},
   "outputs": [
    {
     "data": {
      "text/latex": [
       "We find that, for the Milky Way halo, $r_s=25.7$ kpc and $\\rho_s=0.12$ GeV$/$cm$^3$"
      ],
      "text/plain": [
       "<IPython.core.display.Latex object>"
      ]
     },
     "metadata": {},
     "output_type": "display_data"
    }
   ],
   "source": [
    "r_s = r_vir/c_vir\n",
    "\n",
    "rho_s = M/(4*np.pi*r_s**3*(np.log(1+c_vir)-c_vir/(1+c_vir)))\n",
    "\n",
    "display(Latex(r'We find that, for the Milky Way halo, '+\n",
    "              '$r_s='+str(round(r_s/kpc,1))+'$ kpc and '+\n",
    "              '$\\\\rho_s='+str(round(rho_s,2))+'$ GeV$/$cm$^3$'))"
   ]
  },
  {
   "cell_type": "markdown",
   "metadata": {},
   "source": [
    "## Useful functions"
   ]
  },
  {
   "cell_type": "code",
   "execution_count": 12,
   "metadata": {},
   "outputs": [
    {
     "name": "stdout",
     "output_type": "stream",
     "text": [
      "5.741105590807447e+24\n"
     ]
    }
   ],
   "source": [
    "def rho_DM(r):\n",
    "    # Returns DM density following NFW profile\n",
    "    return rho_s/((r/r_s)*((r/r_s)+1)**2)\n",
    "\n",
    "#rho_sun = 0.3*GeV/(cm**3)\n",
    "#def rho_DM(r):\n",
    "#    return rho_sun/((r/d)*((1+r/r_s)/(1+d/r_s))**2)\n",
    "\n",
    "\n",
    "def radius(l, psi, theta):\n",
    "    \"\"\"\n",
    "    Returns radius measured from GC as function of:\n",
    "     - l: distance from Earth\n",
    "     - psi: angle measured from GC\n",
    "     \"\"\"\n",
    "    return np.sqrt(d**2+l**2-2*d*l*np.cos(psi)*np.cos(theta))\n",
    "\n",
    "\n",
    "def dJ_dOmega(psi, theta):\n",
    "    \"\"\"\n",
    "    Returns differential J-factor as a function of psi and theta\n",
    "    \"\"\"\n",
    "    l_0 = 0.\n",
    "    l_f = 500.*kpc\n",
    "    N = 10000\n",
    "    dl = (l_f - l_0)/N\n",
    "    # create array of midpoints\n",
    "    l_mids = np.linspace(dl/2, l_f-dl/2, N)\n",
    "    s = np.sum(rho_DM(radius(l_mids, np.radians(psi), np.radians(theta)))**2.*dl)\n",
    "    return s\n",
    "print(dJ_dOmega(1.,1.))"
   ]
  },
  {
   "cell_type": "markdown",
   "metadata": {},
   "source": [
    "## Some plots\n",
    "### NFW Profile"
   ]
  },
  {
   "cell_type": "code",
   "execution_count": 5,
   "metadata": {},
   "outputs": [
    {
     "name": "stderr",
     "output_type": "stream",
     "text": [
      "/home/anders/.local/lib/python3.6/site-packages/ipykernel_launcher.py:3: RuntimeWarning: divide by zero encountered in true_divide\n",
      "  This is separate from the ipykernel package so we can avoid doing imports until\n"
     ]
    },
    {
     "data": {
      "image/png": "[encoded data removed]",
      "text/plain": [
       "<Figure size 720x576 with 1 Axes>"
      ]
     },
     "metadata": {
      "needs_background": "light"
     },
     "output_type": "display_data"
    }
   ],
   "source": [
    "rs = np.linspace(0, 2*r_vir)\n",
    "\n",
    "plt.figure(figsize=(10,8))\n",
    "plt.plot(rs/kpc, rho_DM(rs))\n",
    "plt.yscale('log')\n",
    "plt.xscale('log')\n",
    "plt.ylabel(r'$\\rho_\\chi(r)$')\n",
    "plt.xlabel(r'$r$ (kpc)')\n",
    "plt.axvline(r_s/kpc)\n",
    "#plt.text(r_s/kpc-5.5,1e-5,r'$r_s$',fontsize=30)\n",
    "plt.axvline(r_vir/kpc)\n",
    "#plt.text(r_vir/kpc-75,1e-5,r'$r_{vir}$',fontsize=30)\n",
    "plt.show()"
   ]
  },
  {
   "cell_type": "markdown",
   "metadata": {},
   "source": [
    "### Differential $J$-factor as a function of angle $\\psi$"
   ]
  },
  {
   "cell_type": "code",
   "execution_count": 6,
   "metadata": {},
   "outputs": [
    {
     "data": {
      "image/png": "[encoded data removed]",
      "text/plain": [
       "<Figure size 720x576 with 1 Axes>"
      ]
     },
     "metadata": {
      "needs_background": "light"
     },
     "output_type": "display_data"
    },
    {
     "name": "stdout",
     "output_type": "stream",
     "text": [
      "1.4177945019932159e+23\n"
     ]
    }
   ],
   "source": [
    "# Plot dJ_dOmega for various psis\n",
    "psis = np.linspace(0, 10, num=100)\n",
    "dJ_dOmega_vect = []\n",
    "for psi in psis:\n",
    "    dJ_dOmega_vect.append(dJ_dOmega(psi,0))\n",
    "    \n",
    "plt.figure(figsize=(10,8))\n",
    "plt.plot(psis, dJ_dOmega_vect,0)\n",
    "plt.yscale('log')\n",
    "plt.xscale('linear')\n",
    "plt.ylabel(r'$\\frac{dJ}{d\\Omega}(\\psi)$')\n",
    "plt.xlabel(r'$\\psi$ (deg)')\n",
    "plt.show()\n",
    "\n",
    "## Computing $J$ around GC\n",
    "\n",
    "n = 10\n",
    "psi_vect= np.linspace(-0.5, 0.5, n)\n",
    "theta_vect = np.linspace(-0.5, 0,5, n)\n",
    "\n",
    "J_vect = np.zeros((n,n))\n",
    "\n",
    "for i in range(len(psi_vect)):\n",
    "    for j in range(len(theta_vect)):\n",
    "        J_vect[i,j] = dJ_dOmega(psi_vect[i],theta_vect[j])\n",
    "print(np.mean(J_vect))\n",
    "\n",
    "#def J_GC_alt(psi_lim, theta_lim):\n",
    "    \n",
    "#psi_lim = 0.5  # in degrees\n",
    "#theta_lim = 0.5 # in degrees\n",
    "\n",
    "\n",
    "#display(Latex(r'We find that, within '+str(psi_lim)+' degrees of '+\n",
    "#              'GC, $J$ is $'+str(round(J_GC(psi_lim,theta_lim,0.01)*10**-23,1))+'\\\\times 10^{23} \\; GeV^2 cm^{-5}$'))"
   ]
  },
  {
   "cell_type": "code",
   "execution_count": null,
   "metadata": {},
   "outputs": [],
   "source": []
  }
 ],
 "metadata": {
  "kernelspec": {
   "display_name": "Python 3",
   "language": "python",
   "name": "python3"
  },
  "language_info": {
   "codemirror_mode": {
    "name": "ipython",
    "version": 3
   },
   "file_extension": ".py",
   "mimetype": "text/x-python",
   "name": "python",
   "nbconvert_exporter": "python",
   "pygments_lexer": "ipython3",
   "version": "3.6.6"
  }
 },
 "nbformat": 4,
 "nbformat_minor": 2
}
